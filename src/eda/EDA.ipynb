{
 "cells": [
  {
   "cell_type": "code",
   "execution_count": 1,
   "id": "59bc2ede",
   "metadata": {},
   "outputs": [
    {
     "name": "stderr",
     "output_type": "stream",
     "text": [
      "\u001b[34m\u001b[1mwandb\u001b[0m: Currently logged in as: \u001b[33msabrine-krichen\u001b[0m (use `wandb login --relogin` to force relogin)\n",
      "\u001b[34m\u001b[1mwandb\u001b[0m: wandb version 0.13.10 is available!  To upgrade, please run:\n",
      "\u001b[34m\u001b[1mwandb\u001b[0m:  $ pip install wandb --upgrade\n"
     ]
    },
    {
     "data": {
      "text/html": [
       "\n",
       "                Tracking run with wandb version 0.10.31<br/>\n",
       "                Syncing run <strong style=\"color:#cdcd00\">confused-sun-2</strong> to <a href=\"https://wandb.ai\" target=\"_blank\">Weights & Biases</a> <a href=\"https://docs.wandb.com/integrations/jupyter.html\" target=\"_blank\">(Documentation)</a>.<br/>\n",
       "                Project page: <a href=\"https://wandb.ai/sabrine-krichen/nyc_airbnb\" target=\"_blank\">https://wandb.ai/sabrine-krichen/nyc_airbnb</a><br/>\n",
       "                Run page: <a href=\"https://wandb.ai/sabrine-krichen/nyc_airbnb/runs/3jszkc9z\" target=\"_blank\">https://wandb.ai/sabrine-krichen/nyc_airbnb/runs/3jszkc9z</a><br/>\n",
       "                Run data is saved locally in <code>/home/sabrinekrichen/mlpos_nanodegree/project_2/build-ml-pipeline-for-short-term-rental-prices/wandb/run-20230226_002509-3jszkc9z</code><br/><br/>\n",
       "            "
      ],
      "text/plain": [
       "<IPython.core.display.HTML object>"
      ]
     },
     "metadata": {},
     "output_type": "display_data"
    }
   ],
   "source": [
    " import wandb\n",
    " import pandas as pd\n",
    "\n",
    " run = wandb.init(project=\"nyc_airbnb\", group=\"eda\", save_code=True)\n",
    " local_path = wandb.use_artifact(\"sample.csv:latest\").file()\n",
    " df = pd.read_csv(local_path)"
   ]
  },
  {
   "cell_type": "code",
   "execution_count": 3,
   "id": "d7019ee0",
   "metadata": {},
   "outputs": [
    {
     "name": "stdout",
     "output_type": "stream",
     "text": [
      "Collecting pandas-profiling\n",
      "  Downloading pandas_profiling-3.6.6-py2.py3-none-any.whl (324 kB)\n",
      "\u001b[K     |████████████████████████████████| 324 kB 730 kB/s eta 0:00:01\n",
      "\u001b[?25hCollecting ydata-profiling\n",
      "  Downloading ydata_profiling-4.0.0-py2.py3-none-any.whl (344 kB)\n",
      "\u001b[K     |████████████████████████████████| 344 kB 738 kB/s eta 0:00:01\n",
      "\u001b[?25hRequirement already satisfied: numpy<1.24,>=1.16.0 in /home/sabrinekrichen/miniconda3/envs/nyc_airbnb_dev/lib/python3.9/site-packages (from ydata-profiling->pandas-profiling) (1.23.4)\n",
      "Requirement already satisfied: jinja2<3.2,>=2.11.1 in /home/sabrinekrichen/miniconda3/envs/nyc_airbnb_dev/lib/python3.9/site-packages (from ydata-profiling->pandas-profiling) (2.11.3)\n",
      "Requirement already satisfied: matplotlib<3.7,>=3.2 in /home/sabrinekrichen/miniconda3/envs/nyc_airbnb_dev/lib/python3.9/site-packages (from ydata-profiling->pandas-profiling) (3.3.4)\n",
      "Requirement already satisfied: PyYAML<6.1,>=5.0.0 in /home/sabrinekrichen/miniconda3/envs/nyc_airbnb_dev/lib/python3.9/site-packages (from ydata-profiling->pandas-profiling) (6.0)\n",
      "Requirement already satisfied: pandas!=1.4.0,<1.6,>1.1 in /home/sabrinekrichen/miniconda3/envs/nyc_airbnb_dev/lib/python3.9/site-packages (from ydata-profiling->pandas-profiling) (1.2.3)\n",
      "Requirement already satisfied: requests<2.29,>=2.24.0 in /home/sabrinekrichen/miniconda3/envs/nyc_airbnb_dev/lib/python3.9/site-packages (from ydata-profiling->pandas-profiling) (2.28.2)\n",
      "Collecting htmlmin==0.1.12\n",
      "  Using cached htmlmin-0.1.12.tar.gz (19 kB)\n",
      "Collecting visions[type_image_path]==0.7.5\n",
      "  Using cached visions-0.7.5-py3-none-any.whl (102 kB)\n",
      "Requirement already satisfied: attrs>=19.3.0 in /home/sabrinekrichen/miniconda3/envs/nyc_airbnb_dev/lib/python3.9/site-packages (from visions[type_image_path]==0.7.5->ydata-profiling->pandas-profiling) (22.2.0)\n",
      "Requirement already satisfied: Pillow in /home/sabrinekrichen/miniconda3/envs/nyc_airbnb_dev/lib/python3.9/site-packages (from visions[type_image_path]==0.7.5->ydata-profiling->pandas-profiling) (9.4.0)\n",
      "Requirement already satisfied: MarkupSafe>=0.23 in /home/sabrinekrichen/miniconda3/envs/nyc_airbnb_dev/lib/python3.9/site-packages (from jinja2<3.2,>=2.11.1->ydata-profiling->pandas-profiling) (1.1.1)\n",
      "Requirement already satisfied: pyparsing!=2.0.4,!=2.1.2,!=2.1.6,>=2.0.3 in /home/sabrinekrichen/miniconda3/envs/nyc_airbnb_dev/lib/python3.9/site-packages (from matplotlib<3.7,>=3.2->ydata-profiling->pandas-profiling) (3.0.9)\n",
      "Requirement already satisfied: kiwisolver>=1.0.1 in /home/sabrinekrichen/miniconda3/envs/nyc_airbnb_dev/lib/python3.9/site-packages (from matplotlib<3.7,>=3.2->ydata-profiling->pandas-profiling) (1.4.4)\n",
      "Requirement already satisfied: python-dateutil>=2.1 in /home/sabrinekrichen/miniconda3/envs/nyc_airbnb_dev/lib/python3.9/site-packages (from matplotlib<3.7,>=3.2->ydata-profiling->pandas-profiling) (2.8.2)\n",
      "Requirement already satisfied: cycler>=0.10 in /home/sabrinekrichen/miniconda3/envs/nyc_airbnb_dev/lib/python3.9/site-packages (from matplotlib<3.7,>=3.2->ydata-profiling->pandas-profiling) (0.11.0)\n",
      "Collecting multimethod<1.10,>=1.4\n",
      "  Using cached multimethod-1.9.1-py3-none-any.whl (10 kB)\n",
      "Collecting networkx>=2.4\n",
      "  Using cached networkx-3.0-py3-none-any.whl (2.0 MB)\n",
      "Requirement already satisfied: pytz>=2017.3 in /home/sabrinekrichen/miniconda3/envs/nyc_airbnb_dev/lib/python3.9/site-packages (from pandas!=1.4.0,<1.6,>1.1->ydata-profiling->pandas-profiling) (2022.7.1)\n",
      "Collecting phik<0.13,>=0.11.1\n",
      "  Downloading phik-0.12.3-cp39-cp39-manylinux_2_17_x86_64.manylinux2014_x86_64.whl (679 kB)\n",
      "\u001b[K     |████████████████████████████████| 679 kB 782 kB/s eta 0:00:01\n",
      "\u001b[?25hCollecting joblib>=0.14.1\n",
      "  Using cached joblib-1.2.0-py3-none-any.whl (297 kB)\n",
      "Collecting pydantic<1.11,>=1.8.1\n",
      "  Downloading pydantic-1.10.5-cp39-cp39-manylinux_2_17_x86_64.manylinux2014_x86_64.whl (3.2 MB)\n",
      "\u001b[K     |████████████████████████████████| 3.2 MB 693 kB/s eta 0:00:01\n",
      "\u001b[?25hRequirement already satisfied: typing-extensions>=4.2.0 in /home/sabrinekrichen/miniconda3/envs/nyc_airbnb_dev/lib/python3.9/site-packages (from pydantic<1.11,>=1.8.1->ydata-profiling->pandas-profiling) (4.4.0)\n",
      "Requirement already satisfied: six>=1.5 in /home/sabrinekrichen/miniconda3/envs/nyc_airbnb_dev/lib/python3.9/site-packages (from python-dateutil>=2.1->matplotlib<3.7,>=3.2->ydata-profiling->pandas-profiling) (1.16.0)\n",
      "Requirement already satisfied: charset-normalizer<4,>=2 in /home/sabrinekrichen/miniconda3/envs/nyc_airbnb_dev/lib/python3.9/site-packages (from requests<2.29,>=2.24.0->ydata-profiling->pandas-profiling) (2.1.1)\n",
      "Requirement already satisfied: urllib3<1.27,>=1.21.1 in /home/sabrinekrichen/miniconda3/envs/nyc_airbnb_dev/lib/python3.9/site-packages (from requests<2.29,>=2.24.0->ydata-profiling->pandas-profiling) (1.26.14)\n",
      "Requirement already satisfied: certifi>=2017.4.17 in /home/sabrinekrichen/miniconda3/envs/nyc_airbnb_dev/lib/python3.9/site-packages (from requests<2.29,>=2.24.0->ydata-profiling->pandas-profiling) (2022.12.7)\n",
      "Requirement already satisfied: idna<4,>=2.5 in /home/sabrinekrichen/miniconda3/envs/nyc_airbnb_dev/lib/python3.9/site-packages (from requests<2.29,>=2.24.0->ydata-profiling->pandas-profiling) (3.4)\n",
      "Collecting scipy<1.10,>=1.4.1\n",
      "  Downloading scipy-1.9.3-cp39-cp39-manylinux_2_17_x86_64.manylinux2014_x86_64.whl (33.8 MB)\n",
      "\u001b[K     |████████████████████████████████| 33.8 MB 32 kB/s  eta 0:00:01\n",
      "\u001b[?25hCollecting seaborn<0.13,>=0.10.1\n",
      "  Using cached seaborn-0.12.2-py3-none-any.whl (293 kB)\n",
      "Collecting statsmodels<0.14,>=0.13.2\n",
      "  Downloading statsmodels-0.13.5-cp39-cp39-manylinux_2_17_x86_64.manylinux2014_x86_64.whl (9.9 MB)\n",
      "\u001b[K     |████████████████████████████████| 9.9 MB 873 kB/s eta 0:00:01\n",
      "\u001b[?25hRequirement already satisfied: packaging>=21.3 in /home/sabrinekrichen/miniconda3/envs/nyc_airbnb_dev/lib/python3.9/site-packages (from statsmodels<0.14,>=0.13.2->ydata-profiling->pandas-profiling) (23.0)\n",
      "Collecting patsy>=0.5.2\n",
      "  Using cached patsy-0.5.3-py2.py3-none-any.whl (233 kB)\n",
      "Collecting tangled-up-in-unicode>=0.0.4\n",
      "  Using cached tangled_up_in_unicode-0.2.0-py3-none-any.whl (4.7 MB)\n",
      "Collecting tqdm<4.65,>=4.48.2\n",
      "  Using cached tqdm-4.64.1-py2.py3-none-any.whl (78 kB)\n",
      "Collecting typeguard<2.14,>=2.13.2\n",
      "  Using cached typeguard-2.13.3-py3-none-any.whl (17 kB)\n",
      "Collecting imagehash\n",
      "  Using cached ImageHash-4.3.1-py2.py3-none-any.whl (296 kB)\n",
      "Collecting PyWavelets\n",
      "  Downloading PyWavelets-1.4.1-cp39-cp39-manylinux_2_17_x86_64.manylinux2014_x86_64.whl (6.9 MB)\n",
      "\u001b[K     |████████████████████████████████| 6.9 MB 769 kB/s eta 0:00:01\n",
      "\u001b[?25hBuilding wheels for collected packages: htmlmin\n",
      "  Building wheel for htmlmin (setup.py) ... \u001b[?25ldone\n",
      "\u001b[?25h  Created wheel for htmlmin: filename=htmlmin-0.1.12-py3-none-any.whl size=27098 sha256=dc9d966c82117faabb9dbc0c5616e62d3bb4160d877b39db2ced97066f0b5406\n",
      "  Stored in directory: /home/sabrinekrichen/.cache/pip/wheels/1d/05/04/c6d7d3b66539d9e659ac6dfe81e2d0fd4c1a8316cc5a403300\n",
      "Successfully built htmlmin\n",
      "Installing collected packages: tangled-up-in-unicode, scipy, PyWavelets, networkx, multimethod, visions, patsy, joblib, imagehash, typeguard, tqdm, statsmodels, seaborn, pydantic, phik, htmlmin, ydata-profiling, pandas-profiling\n",
      "Successfully installed PyWavelets-1.4.1 htmlmin-0.1.12 imagehash-4.3.1 joblib-1.2.0 multimethod-1.9.1 networkx-3.0 pandas-profiling-3.6.6 patsy-0.5.3 phik-0.12.3 pydantic-1.10.5 scipy-1.9.3 seaborn-0.12.2 statsmodels-0.13.5 tangled-up-in-unicode-0.2.0 tqdm-4.64.1 typeguard-2.13.3 visions-0.7.5 ydata-profiling-4.0.0\n"
     ]
    }
   ],
   "source": [
    "!pip install pandas-profiling"
   ]
  },
  {
   "cell_type": "code",
   "execution_count": 4,
   "id": "30a7254b",
   "metadata": {},
   "outputs": [
    {
     "name": "stderr",
     "output_type": "stream",
     "text": [
      "/tmp/ipykernel_73051/2516835558.py:1: DeprecationWarning: `import pandas_profiling` is going to be deprecated by April 1st. Please use `import ydata_profiling` instead.\n",
      "  import pandas_profiling\n"
     ]
    },
    {
     "data": {
      "application/vnd.jupyter.widget-view+json": {
       "model_id": "beb67f9f416e4107ba44e5bf63052c9f",
       "version_major": 2,
       "version_minor": 0
      },
      "text/plain": [
       "Summarize dataset:   0%|          | 0/5 [00:00<?, ?it/s]"
      ]
     },
     "metadata": {},
     "output_type": "display_data"
    },
    {
     "data": {
      "application/vnd.jupyter.widget-view+json": {
       "model_id": "a6c042bf8e1848c0b9f6a6d327150baa",
       "version_major": 2,
       "version_minor": 0
      },
      "text/plain": [
       "Generate report structure:   0%|          | 0/1 [00:00<?, ?it/s]"
      ]
     },
     "metadata": {},
     "output_type": "display_data"
    },
    {
     "data": {
      "application/vnd.jupyter.widget-view+json": {
       "model_id": "",
       "version_major": 2,
       "version_minor": 0
      },
      "text/plain": [
       "Render widgets:   0%|          | 0/1 [00:00<?, ?it/s]"
      ]
     },
     "metadata": {},
     "output_type": "display_data"
    },
    {
     "data": {
      "text/html": [
       "<div>\n",
       "<style scoped>\n",
       "    .dataframe tbody tr th:only-of-type {\n",
       "        vertical-align: middle;\n",
       "    }\n",
       "\n",
       "    .dataframe tbody tr th {\n",
       "        vertical-align: top;\n",
       "    }\n",
       "\n",
       "    .dataframe thead th {\n",
       "        text-align: right;\n",
       "    }\n",
       "</style>\n",
       "<table border=\"1\" class=\"dataframe\">\n",
       "  <thead>\n",
       "    <tr style=\"text-align: right;\">\n",
       "      <th></th>\n",
       "      <th>id</th>\n",
       "      <th>name</th>\n",
       "      <th>host_id</th>\n",
       "      <th>host_name</th>\n",
       "      <th>neighbourhood_group</th>\n",
       "      <th>neighbourhood</th>\n",
       "      <th>latitude</th>\n",
       "      <th>longitude</th>\n",
       "      <th>room_type</th>\n",
       "      <th>price</th>\n",
       "      <th>minimum_nights</th>\n",
       "      <th>number_of_reviews</th>\n",
       "      <th>last_review</th>\n",
       "      <th>reviews_per_month</th>\n",
       "      <th>calculated_host_listings_count</th>\n",
       "      <th>availability_365</th>\n",
       "    </tr>\n",
       "  </thead>\n",
       "  <tbody>\n",
       "    <tr>\n",
       "      <th>19990</th>\n",
       "      <td>5192459</td>\n",
       "      <td>Quiet Room in 4BR UWS Brownstone</td>\n",
       "      <td>10677483</td>\n",
       "      <td>Greg</td>\n",
       "      <td>Manhattan</td>\n",
       "      <td>Upper West Side</td>\n",
       "      <td>40.80173</td>\n",
       "      <td>-73.96625</td>\n",
       "      <td>Private room</td>\n",
       "      <td>70</td>\n",
       "      <td>1</td>\n",
       "      <td>0</td>\n",
       "      <td>NaN</td>\n",
       "      <td>NaN</td>\n",
       "      <td>1</td>\n",
       "      <td>0</td>\n",
       "    </tr>\n",
       "    <tr>\n",
       "      <th>19991</th>\n",
       "      <td>1327940</td>\n",
       "      <td>Huge Gorgeous Park View Apartment!</td>\n",
       "      <td>3290436</td>\n",
       "      <td>Hadar</td>\n",
       "      <td>Brooklyn</td>\n",
       "      <td>Flatbush</td>\n",
       "      <td>40.65335</td>\n",
       "      <td>-73.96257</td>\n",
       "      <td>Entire home/apt</td>\n",
       "      <td>120</td>\n",
       "      <td>3</td>\n",
       "      <td>13</td>\n",
       "      <td>2016-08-27</td>\n",
       "      <td>0.28</td>\n",
       "      <td>2</td>\n",
       "      <td>327</td>\n",
       "    </tr>\n",
       "    <tr>\n",
       "      <th>19992</th>\n",
       "      <td>23612681</td>\n",
       "      <td>Shared Room 1 Stop from Manhattan on the F Train</td>\n",
       "      <td>55724558</td>\n",
       "      <td>Taylor</td>\n",
       "      <td>Queens</td>\n",
       "      <td>Long Island City</td>\n",
       "      <td>40.76006</td>\n",
       "      <td>-73.94080</td>\n",
       "      <td>Private room</td>\n",
       "      <td>55</td>\n",
       "      <td>4</td>\n",
       "      <td>2</td>\n",
       "      <td>2019-06-01</td>\n",
       "      <td>0.65</td>\n",
       "      <td>5</td>\n",
       "      <td>89</td>\n",
       "    </tr>\n",
       "    <tr>\n",
       "      <th>19993</th>\n",
       "      <td>34485745</td>\n",
       "      <td>Midtown Manhattan Stunner - Private room</td>\n",
       "      <td>261632622</td>\n",
       "      <td>Royalton</td>\n",
       "      <td>Manhattan</td>\n",
       "      <td>Theater District</td>\n",
       "      <td>40.75491</td>\n",
       "      <td>-73.98507</td>\n",
       "      <td>Private room</td>\n",
       "      <td>100</td>\n",
       "      <td>1</td>\n",
       "      <td>3</td>\n",
       "      <td>2019-06-16</td>\n",
       "      <td>3.00</td>\n",
       "      <td>9</td>\n",
       "      <td>318</td>\n",
       "    </tr>\n",
       "    <tr>\n",
       "      <th>19994</th>\n",
       "      <td>25616250</td>\n",
       "      <td>Stylish, spacious, private 1BR apt in Ditmas Park</td>\n",
       "      <td>125396920</td>\n",
       "      <td>Adam</td>\n",
       "      <td>Brooklyn</td>\n",
       "      <td>Flatbush</td>\n",
       "      <td>40.64314</td>\n",
       "      <td>-73.95705</td>\n",
       "      <td>Entire home/apt</td>\n",
       "      <td>75</td>\n",
       "      <td>3</td>\n",
       "      <td>10</td>\n",
       "      <td>2019-01-03</td>\n",
       "      <td>0.84</td>\n",
       "      <td>1</td>\n",
       "      <td>0</td>\n",
       "    </tr>\n",
       "    <tr>\n",
       "      <th>19995</th>\n",
       "      <td>7094539</td>\n",
       "      <td>Tranquil haven in bubbly Brooklyn</td>\n",
       "      <td>2052211</td>\n",
       "      <td>Adriana</td>\n",
       "      <td>Brooklyn</td>\n",
       "      <td>Windsor Terrace</td>\n",
       "      <td>40.65360</td>\n",
       "      <td>-73.97546</td>\n",
       "      <td>Entire home/apt</td>\n",
       "      <td>143</td>\n",
       "      <td>14</td>\n",
       "      <td>2</td>\n",
       "      <td>2016-08-27</td>\n",
       "      <td>0.04</td>\n",
       "      <td>1</td>\n",
       "      <td>10</td>\n",
       "    </tr>\n",
       "    <tr>\n",
       "      <th>19996</th>\n",
       "      <td>4424261</td>\n",
       "      <td>Large 1 BR with backyard on UWS</td>\n",
       "      <td>3447311</td>\n",
       "      <td>Sarah</td>\n",
       "      <td>Manhattan</td>\n",
       "      <td>Upper West Side</td>\n",
       "      <td>40.80188</td>\n",
       "      <td>-73.96808</td>\n",
       "      <td>Entire home/apt</td>\n",
       "      <td>200</td>\n",
       "      <td>2</td>\n",
       "      <td>22</td>\n",
       "      <td>2019-05-21</td>\n",
       "      <td>0.50</td>\n",
       "      <td>1</td>\n",
       "      <td>0</td>\n",
       "    </tr>\n",
       "    <tr>\n",
       "      <th>19997</th>\n",
       "      <td>4545882</td>\n",
       "      <td>Amazing studio/Loft with a backyard</td>\n",
       "      <td>23569951</td>\n",
       "      <td>Kaveh</td>\n",
       "      <td>Manhattan</td>\n",
       "      <td>Upper East Side</td>\n",
       "      <td>40.78110</td>\n",
       "      <td>-73.94567</td>\n",
       "      <td>Entire home/apt</td>\n",
       "      <td>220</td>\n",
       "      <td>3</td>\n",
       "      <td>28</td>\n",
       "      <td>2019-05-23</td>\n",
       "      <td>0.50</td>\n",
       "      <td>1</td>\n",
       "      <td>293</td>\n",
       "    </tr>\n",
       "    <tr>\n",
       "      <th>19998</th>\n",
       "      <td>26518547</td>\n",
       "      <td>U2 comfortable double bed sleeps 2 guests</td>\n",
       "      <td>295128</td>\n",
       "      <td>Carol Gloria</td>\n",
       "      <td>Bronx</td>\n",
       "      <td>Clason Point</td>\n",
       "      <td>40.81225</td>\n",
       "      <td>-73.85502</td>\n",
       "      <td>Private room</td>\n",
       "      <td>80</td>\n",
       "      <td>1</td>\n",
       "      <td>4</td>\n",
       "      <td>2019-07-01</td>\n",
       "      <td>1.48</td>\n",
       "      <td>7</td>\n",
       "      <td>365</td>\n",
       "    </tr>\n",
       "    <tr>\n",
       "      <th>19999</th>\n",
       "      <td>33631782</td>\n",
       "      <td>Private Bedroom in Williamsburg Apt!</td>\n",
       "      <td>8569221</td>\n",
       "      <td>Andi</td>\n",
       "      <td>Brooklyn</td>\n",
       "      <td>Williamsburg</td>\n",
       "      <td>40.71829</td>\n",
       "      <td>-73.95819</td>\n",
       "      <td>Private room</td>\n",
       "      <td>109</td>\n",
       "      <td>3</td>\n",
       "      <td>3</td>\n",
       "      <td>2019-04-28</td>\n",
       "      <td>1.07</td>\n",
       "      <td>2</td>\n",
       "      <td>97</td>\n",
       "    </tr>\n",
       "  </tbody>\n",
       "</table>\n",
       "</div>"
      ],
      "text/plain": [
       "             id                                               name    host_id  \\\n",
       "19990   5192459                   Quiet Room in 4BR UWS Brownstone   10677483   \n",
       "19991   1327940                 Huge Gorgeous Park View Apartment!    3290436   \n",
       "19992  23612681   Shared Room 1 Stop from Manhattan on the F Train   55724558   \n",
       "19993  34485745           Midtown Manhattan Stunner - Private room  261632622   \n",
       "19994  25616250  Stylish, spacious, private 1BR apt in Ditmas Park  125396920   \n",
       "19995   7094539                  Tranquil haven in bubbly Brooklyn    2052211   \n",
       "19996   4424261                    Large 1 BR with backyard on UWS    3447311   \n",
       "19997   4545882                Amazing studio/Loft with a backyard   23569951   \n",
       "19998  26518547          U2 comfortable double bed sleeps 2 guests     295128   \n",
       "19999  33631782               Private Bedroom in Williamsburg Apt!    8569221   \n",
       "\n",
       "          host_name neighbourhood_group     neighbourhood  latitude  \\\n",
       "19990          Greg           Manhattan   Upper West Side  40.80173   \n",
       "19991         Hadar            Brooklyn          Flatbush  40.65335   \n",
       "19992        Taylor              Queens  Long Island City  40.76006   \n",
       "19993      Royalton           Manhattan  Theater District  40.75491   \n",
       "19994          Adam            Brooklyn          Flatbush  40.64314   \n",
       "19995       Adriana            Brooklyn   Windsor Terrace  40.65360   \n",
       "19996         Sarah           Manhattan   Upper West Side  40.80188   \n",
       "19997         Kaveh           Manhattan   Upper East Side  40.78110   \n",
       "19998  Carol Gloria               Bronx      Clason Point  40.81225   \n",
       "19999          Andi            Brooklyn      Williamsburg  40.71829   \n",
       "\n",
       "       longitude        room_type  price  minimum_nights  number_of_reviews  \\\n",
       "19990  -73.96625     Private room     70               1                  0   \n",
       "19991  -73.96257  Entire home/apt    120               3                 13   \n",
       "19992  -73.94080     Private room     55               4                  2   \n",
       "19993  -73.98507     Private room    100               1                  3   \n",
       "19994  -73.95705  Entire home/apt     75               3                 10   \n",
       "19995  -73.97546  Entire home/apt    143              14                  2   \n",
       "19996  -73.96808  Entire home/apt    200               2                 22   \n",
       "19997  -73.94567  Entire home/apt    220               3                 28   \n",
       "19998  -73.85502     Private room     80               1                  4   \n",
       "19999  -73.95819     Private room    109               3                  3   \n",
       "\n",
       "      last_review  reviews_per_month  calculated_host_listings_count  \\\n",
       "19990         NaN                NaN                               1   \n",
       "19991  2016-08-27               0.28                               2   \n",
       "19992  2019-06-01               0.65                               5   \n",
       "19993  2019-06-16               3.00                               9   \n",
       "19994  2019-01-03               0.84                               1   \n",
       "19995  2016-08-27               0.04                               1   \n",
       "19996  2019-05-21               0.50                               1   \n",
       "19997  2019-05-23               0.50                               1   \n",
       "19998  2019-07-01               1.48                               7   \n",
       "19999  2019-04-28               1.07                               2   \n",
       "\n",
       "       availability_365  \n",
       "19990                 0  \n",
       "19991               327  \n",
       "19992                89  \n",
       "19993               318  \n",
       "19994                 0  \n",
       "19995                10  \n",
       "19996                 0  \n",
       "19997               293  \n",
       "19998               365  \n",
       "19999                97  "
      ]
     },
     "metadata": {},
     "output_type": "display_data"
    },
    {
     "data": {
      "application/vnd.jupyter.widget-view+json": {
       "model_id": "0b29294750e04515ab8e352283a21943",
       "version_major": 2,
       "version_minor": 0
      },
      "text/plain": [
       "VBox(children=(Tab(children=(Tab(children=(GridBox(children=(VBox(children=(GridspecLayout(children=(HTML(valu…"
      ]
     },
     "metadata": {},
     "output_type": "display_data"
    }
   ],
   "source": [
    "import pandas_profiling\n",
    "\n",
    "profile = pandas_profiling.ProfileReport(df)\n",
    "profile.to_widgets()"
   ]
  },
  {
   "cell_type": "code",
   "execution_count": 5,
   "id": "8cc44b19",
   "metadata": {},
   "outputs": [],
   "source": [
    "# Drop outliers\n",
    "min_price = 10\n",
    "max_price = 350\n",
    "idx = df['price'].between(min_price, max_price)\n",
    "df = df[idx].copy()\n",
    "# Convert last_review to datetime\n",
    "df['last_review'] = pd.to_datetime(df['last_review'])"
   ]
  },
  {
   "cell_type": "code",
   "execution_count": 6,
   "id": "2cb22155",
   "metadata": {},
   "outputs": [
    {
     "name": "stdout",
     "output_type": "stream",
     "text": [
      "<class 'pandas.core.frame.DataFrame'>\n",
      "Int64Index: 19001 entries, 0 to 19999\n",
      "Data columns (total 16 columns):\n",
      " #   Column                          Non-Null Count  Dtype         \n",
      "---  ------                          --------------  -----         \n",
      " 0   id                              19001 non-null  int64         \n",
      " 1   name                            18994 non-null  object        \n",
      " 2   host_id                         19001 non-null  int64         \n",
      " 3   host_name                       18993 non-null  object        \n",
      " 4   neighbourhood_group             19001 non-null  object        \n",
      " 5   neighbourhood                   19001 non-null  object        \n",
      " 6   latitude                        19001 non-null  float64       \n",
      " 7   longitude                       19001 non-null  float64       \n",
      " 8   room_type                       19001 non-null  object        \n",
      " 9   price                           19001 non-null  int64         \n",
      " 10  minimum_nights                  19001 non-null  int64         \n",
      " 11  number_of_reviews               19001 non-null  int64         \n",
      " 12  last_review                     15243 non-null  datetime64[ns]\n",
      " 13  reviews_per_month               15243 non-null  float64       \n",
      " 14  calculated_host_listings_count  19001 non-null  int64         \n",
      " 15  availability_365                19001 non-null  int64         \n",
      "dtypes: datetime64[ns](1), float64(3), int64(7), object(5)\n",
      "memory usage: 2.5+ MB\n"
     ]
    }
   ],
   "source": [
    "df.info()"
   ]
  },
  {
   "cell_type": "code",
   "execution_count": 7,
   "id": "0e13ecb3",
   "metadata": {},
   "outputs": [
    {
     "data": {
      "text/html": [
       "<br/>Waiting for W&B process to finish, PID 73200<br/>Program ended successfully."
      ],
      "text/plain": [
       "<IPython.core.display.HTML object>"
      ]
     },
     "metadata": {},
     "output_type": "display_data"
    },
    {
     "data": {
      "application/vnd.jupyter.widget-view+json": {
       "model_id": "",
       "version_major": 2,
       "version_minor": 0
      },
      "text/plain": [
       "VBox(children=(Label(value=' 0.13MB of 0.13MB uploaded (0.00MB deduped)\\r'), FloatProgress(value=1.0, max=1.0)…"
      ]
     },
     "metadata": {},
     "output_type": "display_data"
    },
    {
     "data": {
      "text/html": [
       "Find user logs for this run at: <code>/home/sabrinekrichen/mlpos_nanodegree/project_2/build-ml-pipeline-for-short-term-rental-prices/wandb/run-20230226_002509-3jszkc9z/logs/debug.log</code>"
      ],
      "text/plain": [
       "<IPython.core.display.HTML object>"
      ]
     },
     "metadata": {},
     "output_type": "display_data"
    },
    {
     "data": {
      "text/html": [
       "Find internal logs for this run at: <code>/home/sabrinekrichen/mlpos_nanodegree/project_2/build-ml-pipeline-for-short-term-rental-prices/wandb/run-20230226_002509-3jszkc9z/logs/debug-internal.log</code>"
      ],
      "text/plain": [
       "<IPython.core.display.HTML object>"
      ]
     },
     "metadata": {},
     "output_type": "display_data"
    },
    {
     "data": {
      "text/html": [
       "Synced 7 W&B file(s), 0 media file(s), 6 artifact file(s) and 1 other file(s)"
      ],
      "text/plain": [
       "<IPython.core.display.HTML object>"
      ]
     },
     "metadata": {},
     "output_type": "display_data"
    },
    {
     "data": {
      "text/html": [
       "\n",
       "                    <br/>Synced <strong style=\"color:#cdcd00\">confused-sun-2</strong>: <a href=\"https://wandb.ai/sabrine-krichen/nyc_airbnb/runs/3jszkc9z\" target=\"_blank\">https://wandb.ai/sabrine-krichen/nyc_airbnb/runs/3jszkc9z</a><br/>\n",
       "                "
      ],
      "text/plain": [
       "<IPython.core.display.HTML object>"
      ]
     },
     "metadata": {},
     "output_type": "display_data"
    }
   ],
   "source": [
    "run.finish()"
   ]
  },
  {
   "cell_type": "code",
   "execution_count": null,
   "id": "a0bd7637",
   "metadata": {},
   "outputs": [],
   "source": []
  }
 ],
 "metadata": {
  "kernelspec": {
   "display_name": "Python 3 (ipykernel)",
   "language": "python",
   "name": "python3"
  },
  "language_info": {
   "codemirror_mode": {
    "name": "ipython",
    "version": 3
   },
   "file_extension": ".py",
   "mimetype": "text/x-python",
   "name": "python",
   "nbconvert_exporter": "python",
   "pygments_lexer": "ipython3",
   "version": "3.9.15"
  }
 },
 "nbformat": 4,
 "nbformat_minor": 5
}
